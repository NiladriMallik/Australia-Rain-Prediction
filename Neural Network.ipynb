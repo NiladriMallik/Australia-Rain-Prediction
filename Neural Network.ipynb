{
 "cells": [
  {
   "cell_type": "code",
   "execution_count": 1,
   "id": "a8c90739-5aa0-4c5f-94de-3e9ef625fb63",
   "metadata": {},
   "outputs": [],
   "source": [
    "#!pip install tensorflow"
   ]
  },
  {
   "cell_type": "code",
   "execution_count": 20,
   "id": "40bd6f78-b155-4d47-9b0a-e309ea94a562",
   "metadata": {},
   "outputs": [],
   "source": [
    "import numpy as np\n",
    "import pandas as pd\n",
    "import pickle\n",
    "import joblib\n",
    "import seaborn as sns\n",
    "import matplotlib.pyplot as plt\n",
    "sns.set()\n",
    "\n",
    "input_processed_path = 'Preprocessed data/inputs/'\n",
    "target_processed_path = 'Preprocessed data/targets/'\n",
    "\n",
    "from tensorflow.keras.models import Sequential\n",
    "from tensorflow.keras.layers import Dense, Dropout\n",
    "from tensorflow import keras"
   ]
  },
  {
   "cell_type": "markdown",
   "id": "1097bce4-b2d0-493e-b61f-e458b40881cb",
   "metadata": {},
   "source": [
    "## Importing variables"
   ]
  },
  {
   "cell_type": "code",
   "execution_count": 21,
   "id": "dea72c57-a58f-4c3b-9179-c7061f248472",
   "metadata": {},
   "outputs": [],
   "source": [
    "with open('Preprocessed data/preprocess_vars.pkl', 'rb') as file:\n",
    "    preprocess_vars = pickle.load(file)\n",
    "\n",
    "input_cols = preprocess_vars['input_cols']\n",
    "numeric_cols = preprocess_vars['numeric_cols']\n",
    "categorical_cols = preprocess_vars['categorical_cols']\n",
    "encoded_cols = preprocess_vars['encoded_cols']\n",
    "target_col = preprocess_vars['target_col']"
   ]
  },
  {
   "cell_type": "markdown",
   "id": "beccfcc5-1b45-4fc0-88be-a0c35a489c9e",
   "metadata": {},
   "source": [
    "## Importing the inputs and targets"
   ]
  },
  {
   "cell_type": "code",
   "execution_count": 22,
   "id": "f2448825-0a9c-439b-b302-85c76084ed1c",
   "metadata": {},
   "outputs": [],
   "source": [
    "train_inputs = pd.read_parquet(input_processed_path + 'train_inputs.parquet')\n",
    "val_inputs = pd.read_parquet(input_processed_path + 'val_inputs.parquet')\n",
    "test_inputs = pd.read_parquet(input_processed_path + 'test_inputs.parquet')\n",
    "\n",
    "train_targets = pd.read_parquet(target_processed_path + 'train_targets.parquet')[target_col]\n",
    "val_targets = pd.read_parquet(target_processed_path + 'val_targets.parquet')[target_col]\n",
    "test_targets = pd.read_parquet(target_processed_path + 'test_targets.parquet')[target_col]"
   ]
  },
  {
   "cell_type": "code",
   "execution_count": 23,
   "id": "0bbccf16-73c4-46a8-a5dc-c07101ce8748",
   "metadata": {},
   "outputs": [
    {
     "name": "stdout",
     "output_type": "stream",
     "text": [
      "Train inputs shape: (9838, 123)\n",
      "Validation inputs shape: (1669, 123)\n",
      "Test inputs shape: (2572, 123)\n",
      "Train targets shape: (9838,)\n",
      "Validation targets shape: (1669,)\n",
      "Test targets shape: (2572,)\n"
     ]
    }
   ],
   "source": [
    "print(f'Train inputs shape: {train_inputs.shape}')\n",
    "print(f'Validation inputs shape: {val_inputs.shape}')\n",
    "print(f'Test inputs shape: {test_inputs.shape}')\n",
    "\n",
    "print(f'Train targets shape: {train_targets.shape}')\n",
    "print(f'Validation targets shape: {val_targets.shape}')\n",
    "print(f'Test targets shape: {test_targets.shape}')"
   ]
  },
  {
   "cell_type": "code",
   "execution_count": 24,
   "id": "7b2f2330-b775-4cf5-81e1-796ce7ee12c0",
   "metadata": {},
   "outputs": [],
   "source": [
    "X_train = train_inputs[numeric_cols + encoded_cols]\n",
    "X_val = val_inputs[numeric_cols + encoded_cols]\n",
    "X_test = test_inputs[numeric_cols + encoded_cols]"
   ]
  },
  {
   "cell_type": "code",
   "execution_count": 25,
   "id": "48e13dd2-a98b-4229-9437-0d06efaf68eb",
   "metadata": {},
   "outputs": [
    {
     "name": "stdout",
     "output_type": "stream",
     "text": [
      "X_train dtypes: [dtype('float64')]\n",
      "X_val dtypes: [dtype('float64')]\n",
      "X_test dtypes: [dtype('float64')]\n"
     ]
    }
   ],
   "source": [
    "print(f'X_train dtypes: {X_train.dtypes.unique()}')\n",
    "print(f'X_val dtypes: {X_val.dtypes.unique()}')\n",
    "print(f'X_test dtypes: {X_test.dtypes.unique()}')"
   ]
  },
  {
   "cell_type": "code",
   "execution_count": 26,
   "id": "1b6871f8-7a10-475a-85df-919376973a38",
   "metadata": {},
   "outputs": [
    {
     "name": "stdout",
     "output_type": "stream",
     "text": [
      "Unique train_targets: ['No' 'Yes']\n",
      "Unique val targets: ['Yes' 'No']\n",
      "Unique test targets: ['Yes' 'No']\n"
     ]
    }
   ],
   "source": [
    "print(f'Unique train_targets: {train_targets.unique()}')\n",
    "print(f'Unique val targets: {val_targets.unique()}')\n",
    "print(f'Unique test targets: {test_targets.unique()}')"
   ]
  },
  {
   "cell_type": "markdown",
   "id": "cfa62097-d2f5-4178-9b18-7becc6db46f8",
   "metadata": {},
   "source": [
    "## Target mapping to integer\n",
    "\n",
    "Since the targets are 'Yes' and 'No' which are strings and cannot be used in neural networks, we have to map them to 0 and 1 respectively."
   ]
  },
  {
   "cell_type": "code",
   "execution_count": 27,
   "id": "1f858935-5884-465a-980c-8a0917fff0d3",
   "metadata": {},
   "outputs": [
    {
     "data": {
      "text/plain": [
       "{'No': 0, 'Yes': 1}"
      ]
     },
     "execution_count": 27,
     "metadata": {},
     "output_type": "execute_result"
    }
   ],
   "source": [
    "target_mapping = {train_targets.unique()[i] : i for i in range(len(train_targets.unique()))}\n",
    "target_mapping"
   ]
  },
  {
   "cell_type": "code",
   "execution_count": 28,
   "id": "de8d717c-a3de-4aa6-9f1b-3bb0d4517a3f",
   "metadata": {},
   "outputs": [
    {
     "name": "stdout",
     "output_type": "stream",
     "text": [
      "Type of train_targets: <class 'pandas.core.series.Series'>\n",
      "\n",
      "Type of train_targetst_mapped: <class 'pandas.core.series.Series'>\n"
     ]
    }
   ],
   "source": [
    "train_targets_mapped = train_targets.copy()\n",
    "val_targets_mapped = val_targets.copy()\n",
    "test_targets_mapped = test_targets.copy()\n",
    "\n",
    "print(f'Type of train_targets: {type(train_targets)}\\n')\n",
    "print(f'Type of train_targetst_mapped: {type(train_targets_mapped)}')"
   ]
  },
  {
   "cell_type": "code",
   "execution_count": 29,
   "id": "e273d763-2be7-4287-b810-4ce2f697f774",
   "metadata": {},
   "outputs": [
    {
     "data": {
      "text/plain": [
       "130666     No\n",
       "107539     No\n",
       "525        No\n",
       "142472     No\n",
       "19533     Yes\n",
       "         ... \n",
       "3402       No\n",
       "66039     Yes\n",
       "64773      No\n",
       "7692       No\n",
       "142497     No\n",
       "Name: RainTomorrow, Length: 9838, dtype: object"
      ]
     },
     "execution_count": 29,
     "metadata": {},
     "output_type": "execute_result"
    }
   ],
   "source": [
    "train_targets"
   ]
  },
  {
   "cell_type": "code",
   "execution_count": 30,
   "id": "b037a74e-4017-4eb8-90e7-d81445c362a6",
   "metadata": {},
   "outputs": [
    {
     "data": {
      "text/plain": [
       "130666    0\n",
       "107539    0\n",
       "525       0\n",
       "142472    0\n",
       "19533     1\n",
       "         ..\n",
       "3402      0\n",
       "66039     1\n",
       "64773     0\n",
       "7692      0\n",
       "142497    0\n",
       "Name: RainTomorrow, Length: 9838, dtype: int64"
      ]
     },
     "execution_count": 30,
     "metadata": {},
     "output_type": "execute_result"
    }
   ],
   "source": [
    "train_targets_mapped = train_targets_mapped.replace(target_mapping)\n",
    "val_targets_mapped = val_targets_mapped.replace(target_mapping)\n",
    "test_targets_mapped = test_targets_mapped.replace(target_mapping)\n",
    "train_targets_mapped"
   ]
  },
  {
   "cell_type": "markdown",
   "id": "8f2ba5f3-4e4a-4ccd-8f9e-84f1631166bb",
   "metadata": {},
   "source": [
    "## Preparing the neural network"
   ]
  },
  {
   "cell_type": "code",
   "execution_count": 31,
   "id": "06327796-753e-4efc-9f42-038348daf2e8",
   "metadata": {},
   "outputs": [
    {
     "data": {
      "text/plain": [
       "<module 'keras.api.optimizers' from 'C:\\\\Users\\\\NILADRI\\\\AppData\\\\Roaming\\\\Python\\\\Python310\\\\site-packages\\\\keras\\\\api\\\\optimizers\\\\__init__.py'>"
      ]
     },
     "execution_count": 31,
     "metadata": {},
     "output_type": "execute_result"
    }
   ],
   "source": [
    "keras.optimizers"
   ]
  },
  {
   "cell_type": "code",
   "execution_count": 43,
   "id": "01b276b5-746e-4eea-b0a8-610e04f8f2d3",
   "metadata": {},
   "outputs": [
    {
     "name": "stderr",
     "output_type": "stream",
     "text": [
      "C:\\Users\\NILADRI\\AppData\\Roaming\\Python\\Python310\\site-packages\\keras\\src\\layers\\core\\dense.py:87: UserWarning: Do not pass an `input_shape`/`input_dim` argument to a layer. When using Sequential models, prefer using an `Input(shape)` object as the first layer in the model instead.\n",
      "  super().__init__(activity_regularizer=activity_regularizer, **kwargs)\n"
     ]
    }
   ],
   "source": [
    "model = Sequential()\n",
    "# model.add(keras.Input(shape = train_inputs.shape[1],))\n",
    "model.add(Dense(128, activation = 'relu', input_shape = (X_train.shape[1],)))\n",
    "model.add(Dense(80, activation = 'relu'))\n",
    "# model.add(Dense(32, activation = 'relu'))\n",
    "model.add(Dropout(0.5))\n",
    "model.add(Dense(16, activation = 'relu'))\n",
    "# model.add(Dense(4, activation = 'relu'))\n",
    "model.add(Dense(1, activation = 'sigmoid'))"
   ]
  },
  {
   "cell_type": "code",
   "execution_count": 44,
   "id": "a8f97028-f992-469c-a814-2e514584d87d",
   "metadata": {},
   "outputs": [],
   "source": [
    "model.compile(loss = 'binary_crossentropy', \n",
    "              metrics = ['accuracy'],\n",
    "             optimizer = 'sgd')"
   ]
  },
  {
   "cell_type": "code",
   "execution_count": 45,
   "id": "db3c60c9-95dd-4bbd-a5c4-a7ec1ea1285d",
   "metadata": {
    "scrolled": true
   },
   "outputs": [
    {
     "name": "stdout",
     "output_type": "stream",
     "text": [
      "Epoch 1/20\n",
      "\u001b[1m9838/9838\u001b[0m \u001b[32m━━━━━━━━━━━━━━━━━━━━\u001b[0m\u001b[37m\u001b[0m \u001b[1m25s\u001b[0m 2ms/step - accuracy: 0.8051 - loss: 0.4465 - val_accuracy: 0.8484 - val_loss: 0.3439\n",
      "Epoch 2/20\n",
      "\u001b[1m9838/9838\u001b[0m \u001b[32m━━━━━━━━━━━━━━━━━━━━\u001b[0m\u001b[37m\u001b[0m \u001b[1m27s\u001b[0m 3ms/step - accuracy: 0.8317 - loss: 0.3756 - val_accuracy: 0.8514 - val_loss: 0.3368\n",
      "Epoch 3/20\n",
      "\u001b[1m9838/9838\u001b[0m \u001b[32m━━━━━━━━━━━━━━━━━━━━\u001b[0m\u001b[37m\u001b[0m \u001b[1m26s\u001b[0m 3ms/step - accuracy: 0.8453 - loss: 0.3624 - val_accuracy: 0.8610 - val_loss: 0.3282\n",
      "Epoch 4/20\n",
      "\u001b[1m9838/9838\u001b[0m \u001b[32m━━━━━━━━━━━━━━━━━━━━\u001b[0m\u001b[37m\u001b[0m \u001b[1m19s\u001b[0m 2ms/step - accuracy: 0.8436 - loss: 0.3550 - val_accuracy: 0.8580 - val_loss: 0.3325\n",
      "Epoch 5/20\n",
      "\u001b[1m9838/9838\u001b[0m \u001b[32m━━━━━━━━━━━━━━━━━━━━\u001b[0m\u001b[37m\u001b[0m \u001b[1m20s\u001b[0m 2ms/step - accuracy: 0.8529 - loss: 0.3403 - val_accuracy: 0.8688 - val_loss: 0.3150\n",
      "Epoch 6/20\n",
      "\u001b[1m9838/9838\u001b[0m \u001b[32m━━━━━━━━━━━━━━━━━━━━\u001b[0m\u001b[37m\u001b[0m \u001b[1m31s\u001b[0m 3ms/step - accuracy: 0.8524 - loss: 0.3362 - val_accuracy: 0.8676 - val_loss: 0.3176\n",
      "Epoch 7/20\n",
      "\u001b[1m9838/9838\u001b[0m \u001b[32m━━━━━━━━━━━━━━━━━━━━\u001b[0m\u001b[37m\u001b[0m \u001b[1m34s\u001b[0m 3ms/step - accuracy: 0.8547 - loss: 0.3421 - val_accuracy: 0.8730 - val_loss: 0.3130\n",
      "Epoch 8/20\n",
      "\u001b[1m9838/9838\u001b[0m \u001b[32m━━━━━━━━━━━━━━━━━━━━\u001b[0m\u001b[37m\u001b[0m \u001b[1m35s\u001b[0m 4ms/step - accuracy: 0.8611 - loss: 0.3256 - val_accuracy: 0.8652 - val_loss: 0.3190\n",
      "Epoch 9/20\n",
      "\u001b[1m9838/9838\u001b[0m \u001b[32m━━━━━━━━━━━━━━━━━━━━\u001b[0m\u001b[37m\u001b[0m \u001b[1m23s\u001b[0m 2ms/step - accuracy: 0.8610 - loss: 0.3293 - val_accuracy: 0.8694 - val_loss: 0.3220\n",
      "Epoch 10/20\n",
      "\u001b[1m9838/9838\u001b[0m \u001b[32m━━━━━━━━━━━━━━━━━━━━\u001b[0m\u001b[37m\u001b[0m \u001b[1m25s\u001b[0m 3ms/step - accuracy: 0.8665 - loss: 0.3146 - val_accuracy: 0.8712 - val_loss: 0.3113\n",
      "Epoch 11/20\n",
      "\u001b[1m9838/9838\u001b[0m \u001b[32m━━━━━━━━━━━━━━━━━━━━\u001b[0m\u001b[37m\u001b[0m \u001b[1m28s\u001b[0m 3ms/step - accuracy: 0.8663 - loss: 0.3128 - val_accuracy: 0.8682 - val_loss: 0.3147\n",
      "Epoch 12/20\n",
      "\u001b[1m9838/9838\u001b[0m \u001b[32m━━━━━━━━━━━━━━━━━━━━\u001b[0m\u001b[37m\u001b[0m \u001b[1m28s\u001b[0m 3ms/step - accuracy: 0.8662 - loss: 0.3069 - val_accuracy: 0.8646 - val_loss: 0.3238\n",
      "Epoch 13/20\n",
      "\u001b[1m9838/9838\u001b[0m \u001b[32m━━━━━━━━━━━━━━━━━━━━\u001b[0m\u001b[37m\u001b[0m \u001b[1m28s\u001b[0m 3ms/step - accuracy: 0.8709 - loss: 0.3054 - val_accuracy: 0.8568 - val_loss: 0.3472\n",
      "Epoch 14/20\n",
      "\u001b[1m9838/9838\u001b[0m \u001b[32m━━━━━━━━━━━━━━━━━━━━\u001b[0m\u001b[37m\u001b[0m \u001b[1m28s\u001b[0m 3ms/step - accuracy: 0.8693 - loss: 0.2988 - val_accuracy: 0.8610 - val_loss: 0.3227\n",
      "Epoch 15/20\n",
      "\u001b[1m9838/9838\u001b[0m \u001b[32m━━━━━━━━━━━━━━━━━━━━\u001b[0m\u001b[37m\u001b[0m \u001b[1m29s\u001b[0m 3ms/step - accuracy: 0.8762 - loss: 0.2906 - val_accuracy: 0.8628 - val_loss: 0.3208\n",
      "Epoch 16/20\n",
      "\u001b[1m9838/9838\u001b[0m \u001b[32m━━━━━━━━━━━━━━━━━━━━\u001b[0m\u001b[37m\u001b[0m \u001b[1m25s\u001b[0m 3ms/step - accuracy: 0.8807 - loss: 0.2855 - val_accuracy: 0.8616 - val_loss: 0.3273\n",
      "Epoch 17/20\n",
      "\u001b[1m9838/9838\u001b[0m \u001b[32m━━━━━━━━━━━━━━━━━━━━\u001b[0m\u001b[37m\u001b[0m \u001b[1m26s\u001b[0m 3ms/step - accuracy: 0.8782 - loss: 0.2795 - val_accuracy: 0.8628 - val_loss: 0.3289\n",
      "Epoch 18/20\n",
      "\u001b[1m9838/9838\u001b[0m \u001b[32m━━━━━━━━━━━━━━━━━━━━\u001b[0m\u001b[37m\u001b[0m \u001b[1m27s\u001b[0m 3ms/step - accuracy: 0.8794 - loss: 0.2797 - val_accuracy: 0.8688 - val_loss: 0.3272\n",
      "Epoch 19/20\n",
      "\u001b[1m9838/9838\u001b[0m \u001b[32m━━━━━━━━━━━━━━━━━━━━\u001b[0m\u001b[37m\u001b[0m \u001b[1m28s\u001b[0m 3ms/step - accuracy: 0.8810 - loss: 0.2755 - val_accuracy: 0.8646 - val_loss: 0.3937\n",
      "Epoch 20/20\n",
      "\u001b[1m9838/9838\u001b[0m \u001b[32m━━━━━━━━━━━━━━━━━━━━\u001b[0m\u001b[37m\u001b[0m \u001b[1m27s\u001b[0m 3ms/step - accuracy: 0.8871 - loss: 0.2638 - val_accuracy: 0.8592 - val_loss: 0.3632\n"
     ]
    },
    {
     "data": {
      "text/plain": [
       "<keras.src.callbacks.history.History at 0x2936824f220>"
      ]
     },
     "execution_count": 45,
     "metadata": {},
     "output_type": "execute_result"
    }
   ],
   "source": [
    "model.fit(train_inputs[numeric_cols + encoded_cols], \n",
    "          train_targets_mapped, epochs = 20, batch_size = 1,\n",
    "         validation_data = (X_val, val_targets_mapped))"
   ]
  },
  {
   "cell_type": "code",
   "execution_count": 46,
   "id": "fba51fb7-9a3d-4ebf-b9ae-13379fef6619",
   "metadata": {},
   "outputs": [
    {
     "name": "stdout",
     "output_type": "stream",
     "text": [
      "\u001b[1m81/81\u001b[0m \u001b[32m━━━━━━━━━━━━━━━━━━━━\u001b[0m\u001b[37m\u001b[0m \u001b[1m0s\u001b[0m 3ms/step - accuracy: 0.8270 - loss: 0.4568\n",
      "Loss: 0.4335860013961792\n",
      "Accuracy: 0.8359253406524658\n"
     ]
    }
   ],
   "source": [
    "loss, accuracy = model.evaluate(test_inputs[numeric_cols + encoded_cols], test_targets_mapped)\n",
    "print(f'Loss: {loss}')\n",
    "print(f'Accuracy: {accuracy}')"
   ]
  },
  {
   "cell_type": "code",
   "execution_count": null,
   "id": "8cc9dfd1-7123-46bf-af86-661cb6990baa",
   "metadata": {},
   "outputs": [],
   "source": []
  }
 ],
 "metadata": {
  "kernelspec": {
   "display_name": "Python 3 (ipykernel)",
   "language": "python",
   "name": "python3"
  },
  "language_info": {
   "codemirror_mode": {
    "name": "ipython",
    "version": 3
   },
   "file_extension": ".py",
   "mimetype": "text/x-python",
   "name": "python",
   "nbconvert_exporter": "python",
   "pygments_lexer": "ipython3",
   "version": "3.10.0"
  }
 },
 "nbformat": 4,
 "nbformat_minor": 5
}
